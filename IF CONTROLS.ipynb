{
 "cells": [
  {
   "cell_type": "code",
   "execution_count": 1,
   "id": "e1122dd9",
   "metadata": {},
   "outputs": [],
   "source": [
    "x=5\n",
    "y=2"
   ]
  },
  {
   "cell_type": "code",
   "execution_count": 2,
   "id": "19ce885c",
   "metadata": {},
   "outputs": [
    {
     "data": {
      "text/plain": [
       "True"
      ]
     },
     "execution_count": 2,
     "metadata": {},
     "output_type": "execute_result"
    }
   ],
   "source": [
    "x>y"
   ]
  },
  {
   "cell_type": "code",
   "execution_count": 3,
   "id": "eb487577",
   "metadata": {},
   "outputs": [
    {
     "data": {
      "text/plain": [
       "False"
      ]
     },
     "execution_count": 3,
     "metadata": {},
     "output_type": "execute_result"
    }
   ],
   "source": [
    "x<y"
   ]
  },
  {
   "cell_type": "code",
   "execution_count": 4,
   "id": "b29c2095",
   "metadata": {},
   "outputs": [
    {
     "data": {
      "text/plain": [
       "True"
      ]
     },
     "execution_count": 4,
     "metadata": {},
     "output_type": "execute_result"
    }
   ],
   "source": [
    "y=5\n",
    "x>=5"
   ]
  },
  {
   "cell_type": "code",
   "execution_count": 5,
   "id": "b483198c",
   "metadata": {},
   "outputs": [
    {
     "data": {
      "text/plain": [
       "True"
      ]
     },
     "execution_count": 5,
     "metadata": {},
     "output_type": "execute_result"
    }
   ],
   "source": [
    "x<=y"
   ]
  },
  {
   "cell_type": "code",
   "execution_count": 6,
   "id": "affa55c8",
   "metadata": {},
   "outputs": [
    {
     "data": {
      "text/plain": [
       "True"
      ]
     },
     "execution_count": 6,
     "metadata": {},
     "output_type": "execute_result"
    }
   ],
   "source": [
    "x>=5.0"
   ]
  },
  {
   "cell_type": "code",
   "execution_count": 7,
   "id": "f6629501",
   "metadata": {},
   "outputs": [
    {
     "data": {
      "text/plain": [
       "False"
      ]
     },
     "execution_count": 7,
     "metadata": {},
     "output_type": "execute_result"
    }
   ],
   "source": [
    "x>=5.001"
   ]
  },
  {
   "cell_type": "code",
   "execution_count": 8,
   "id": "6f7810e3",
   "metadata": {},
   "outputs": [],
   "source": [
    "x=10\n",
    "y=8"
   ]
  },
  {
   "cell_type": "code",
   "execution_count": 9,
   "id": "8106c3d2",
   "metadata": {},
   "outputs": [
    {
     "data": {
      "text/plain": [
       "False"
      ]
     },
     "execution_count": 9,
     "metadata": {},
     "output_type": "execute_result"
    }
   ],
   "source": [
    "x==y#eşit mi kontrolü"
   ]
  },
  {
   "cell_type": "code",
   "execution_count": 10,
   "id": "55cd0c16",
   "metadata": {},
   "outputs": [
    {
     "data": {
      "text/plain": [
       "True"
      ]
     },
     "execution_count": 10,
     "metadata": {},
     "output_type": "execute_result"
    }
   ],
   "source": [
    "x!=y# eşit değildir kontrolü"
   ]
  },
  {
   "cell_type": "code",
   "execution_count": 11,
   "id": "aabfcd7d",
   "metadata": {},
   "outputs": [
    {
     "data": {
      "text/plain": [
       "True"
      ]
     },
     "execution_count": 11,
     "metadata": {},
     "output_type": "execute_result"
    }
   ],
   "source": [
    "2>1 and 3>2#and true olması için iki koşulun da doğru olması gerekir"
   ]
  },
  {
   "cell_type": "code",
   "execution_count": 12,
   "id": "72471a53",
   "metadata": {},
   "outputs": [
    {
     "data": {
      "text/plain": [
       "False"
      ]
     },
     "execution_count": 12,
     "metadata": {},
     "output_type": "execute_result"
    }
   ],
   "source": [
    "2>1 and 3<2"
   ]
  },
  {
   "cell_type": "code",
   "execution_count": 13,
   "id": "5e767ff2",
   "metadata": {},
   "outputs": [
    {
     "data": {
      "text/plain": [
       "True"
      ]
     },
     "execution_count": 13,
     "metadata": {},
     "output_type": "execute_result"
    }
   ],
   "source": [
    "True and True"
   ]
  },
  {
   "cell_type": "code",
   "execution_count": 14,
   "id": "059d7ef1",
   "metadata": {},
   "outputs": [
    {
     "data": {
      "text/plain": [
       "False"
      ]
     },
     "execution_count": 14,
     "metadata": {},
     "output_type": "execute_result"
    }
   ],
   "source": [
    "True and False"
   ]
  },
  {
   "cell_type": "code",
   "execution_count": 15,
   "id": "882fd666",
   "metadata": {},
   "outputs": [
    {
     "data": {
      "text/plain": [
       "False"
      ]
     },
     "execution_count": 15,
     "metadata": {},
     "output_type": "execute_result"
    }
   ],
   "source": [
    "False and False"
   ]
  },
  {
   "cell_type": "code",
   "execution_count": 16,
   "id": "6c4062cd",
   "metadata": {},
   "outputs": [
    {
     "data": {
      "text/plain": [
       "True"
      ]
     },
     "execution_count": 16,
     "metadata": {},
     "output_type": "execute_result"
    }
   ],
   "source": [
    "2>1 or 3<2"
   ]
  },
  {
   "cell_type": "code",
   "execution_count": 17,
   "id": "a7bef549",
   "metadata": {},
   "outputs": [
    {
     "data": {
      "text/plain": [
       "False"
      ]
     },
     "execution_count": 17,
     "metadata": {},
     "output_type": "execute_result"
    }
   ],
   "source": [
    "1>2 or 3<2#sadece bir koşulun doğru olması doğru olması için yeterli"
   ]
  },
  {
   "cell_type": "code",
   "execution_count": 18,
   "id": "3ea7b22e",
   "metadata": {},
   "outputs": [
    {
     "data": {
      "text/plain": [
       "False"
      ]
     },
     "execution_count": 18,
     "metadata": {},
     "output_type": "execute_result"
    }
   ],
   "source": [
    "not 1==1#tersine çevirir"
   ]
  },
  {
   "cell_type": "code",
   "execution_count": 19,
   "id": "cc7f1f7f",
   "metadata": {},
   "outputs": [
    {
     "data": {
      "text/plain": [
       "True"
      ]
     },
     "execution_count": 19,
     "metadata": {},
     "output_type": "execute_result"
    }
   ],
   "source": [
    "10 in [10,20,30]#bu veri yapısında var mı yok mu kontrolü için"
   ]
  },
  {
   "cell_type": "code",
   "execution_count": 20,
   "id": "cfa13906",
   "metadata": {},
   "outputs": [
    {
     "data": {
      "text/plain": [
       "True"
      ]
     },
     "execution_count": 20,
     "metadata": {},
     "output_type": "execute_result"
    }
   ],
   "source": [
    "5 not in  [10,20,30]"
   ]
  },
  {
   "cell_type": "code",
   "execution_count": 21,
   "id": "83a465ac",
   "metadata": {},
   "outputs": [
    {
     "data": {
      "text/plain": [
       "True"
      ]
     },
     "execution_count": 21,
     "metadata": {},
     "output_type": "execute_result"
    }
   ],
   "source": [
    "10 in {10,20,30}"
   ]
  },
  {
   "cell_type": "code",
   "execution_count": 22,
   "id": "72c00d5e",
   "metadata": {},
   "outputs": [],
   "source": [
    "my_dictionary={\"a\":10,\"b\":20,\"c\":30}"
   ]
  },
  {
   "cell_type": "code",
   "execution_count": 23,
   "id": "2b47600a",
   "metadata": {},
   "outputs": [
    {
     "data": {
      "text/plain": [
       "True"
      ]
     },
     "execution_count": 23,
     "metadata": {},
     "output_type": "execute_result"
    }
   ],
   "source": [
    "10 in my_dictionary.values()"
   ]
  },
  {
   "cell_type": "code",
   "execution_count": 24,
   "id": "00671822",
   "metadata": {},
   "outputs": [
    {
     "data": {
      "text/plain": [
       "True"
      ]
     },
     "execution_count": 24,
     "metadata": {},
     "output_type": "execute_result"
    }
   ],
   "source": [
    "\"b\" in my_dictionary.keys()"
   ]
  },
  {
   "cell_type": "code",
   "execution_count": 25,
   "id": "ae2c99bd",
   "metadata": {},
   "outputs": [
    {
     "data": {
      "text/plain": [
       "True"
      ]
     },
     "execution_count": 25,
     "metadata": {},
     "output_type": "execute_result"
    }
   ],
   "source": [
    "10 in (10,20,30)"
   ]
  },
  {
   "cell_type": "code",
   "execution_count": 36,
   "id": "920b2ae8",
   "metadata": {},
   "outputs": [],
   "source": [
    "my_superhero=\"Aquaman\""
   ]
  },
  {
   "cell_type": "code",
   "execution_count": 37,
   "id": "7c3a3c69",
   "metadata": {},
   "outputs": [
    {
     "data": {
      "text/plain": [
       "False"
      ]
     },
     "execution_count": 37,
     "metadata": {},
     "output_type": "execute_result"
    }
   ],
   "source": [
    "my_superhero==\"Batman\""
   ]
  },
  {
   "cell_type": "code",
   "execution_count": 38,
   "id": "17dac1b8",
   "metadata": {},
   "outputs": [
    {
     "data": {
      "text/plain": [
       "False"
      ]
     },
     "execution_count": 38,
     "metadata": {},
     "output_type": "execute_result"
    }
   ],
   "source": [
    "my_superhero==\"Superman\""
   ]
  },
  {
   "cell_type": "code",
   "execution_count": 39,
   "id": "4a913f5c",
   "metadata": {},
   "outputs": [
    {
     "name": "stdout",
     "output_type": "stream",
     "text": [
      "hello python\n"
     ]
    }
   ],
   "source": [
    "if my_superhero==\"Batman\":\n",
    "    #indentation #if koşulu doğruysa blok altında kodlar çalışır\n",
    "    print(\"batmannn\")\n",
    "    print(\"damla\")\n",
    "#########\n",
    "print(\"hello python\") #if bloğuna dahil değil"
   ]
  },
  {
   "cell_type": "code",
   "execution_count": 41,
   "id": "e6b2eec5",
   "metadata": {},
   "outputs": [],
   "source": [
    "if 3>4:\n",
    "    print(\"hello world\")"
   ]
  },
  {
   "cell_type": "code",
   "execution_count": 44,
   "id": "a946e524",
   "metadata": {},
   "outputs": [
    {
     "name": "stdout",
     "output_type": "stream",
     "text": [
      "enter superhero:Wonder Women\n"
     ]
    }
   ],
   "source": [
    "my_superhero=input(\"enter superhero:\")"
   ]
  },
  {
   "cell_type": "code",
   "execution_count": 46,
   "id": "0a0ac74b",
   "metadata": {},
   "outputs": [
    {
     "name": "stdout",
     "output_type": "stream",
     "text": [
      ":(\n"
     ]
    }
   ],
   "source": [
    "if my_superhero==\"Superman\":\n",
    "    print(\"Superman\")\n",
    "elif my_superhero==\"Batman\":#başka koşullar için çoğaltılabilir\n",
    "    print(\"Batman\")\n",
    "elif my_superhero==\"Aquaman\":\n",
    "    print(\"Aquaman\")\n",
    "elif my_superhero==\"Ironman\":\n",
    "    print(\"Ironman\")\n",
    "else:\n",
    "    print(\":(\")\n"
   ]
  },
  {
   "cell_type": "code",
   "execution_count": 55,
   "id": "4060180f",
   "metadata": {},
   "outputs": [],
   "source": [
    "my_age=100"
   ]
  },
  {
   "cell_type": "code",
   "execution_count": 56,
   "id": "39c0f2e6",
   "metadata": {},
   "outputs": [
    {
     "name": "stdout",
     "output_type": "stream",
     "text": [
      "age<40\n"
     ]
    }
   ],
   "source": [
    "if my_age<=18:\n",
    "    print(\"age<=18\")\n",
    "elif my_age>18 and my_age<30:\n",
    "    print(\"18-age-30\")\n",
    "elif my_age>30 and my_age<40:\n",
    "    print(\"30-age-40\")\n",
    "else:\n",
    "    print(\"age<40\")\n",
    "    \n",
    "\n"
   ]
  },
  {
   "cell_type": "code",
   "execution_count": 67,
   "id": "d72e831b",
   "metadata": {},
   "outputs": [
    {
     "name": "stdout",
     "output_type": "stream",
     "text": [
      "enter superhero:Batman\n"
     ]
    }
   ],
   "source": [
    "my_superhero=input(\"enter superhero:\")"
   ]
  },
  {
   "cell_type": "code",
   "execution_count": 68,
   "id": "3a3b8210",
   "metadata": {},
   "outputs": [],
   "source": [
    "my_superhero_list=[\"Spider Man\",\"Iron Man\",\"Thor\",\"Black Widow\"]"
   ]
  },
  {
   "cell_type": "code",
   "execution_count": 72,
   "id": "d6cbcc7d",
   "metadata": {},
   "outputs": [
    {
     "name": "stdout",
     "output_type": "stream",
     "text": [
      ":(\n"
     ]
    }
   ],
   "source": [
    "if my_superhero in my_superhero_list:\n",
    "    print(\":)\")\n",
    "else:\n",
    "    print(\":(\")"
   ]
  },
  {
   "cell_type": "code",
   "execution_count": null,
   "id": "5bc89788",
   "metadata": {},
   "outputs": [],
   "source": []
  }
 ],
 "metadata": {
  "kernelspec": {
   "display_name": "Python 3 (ipykernel)",
   "language": "python",
   "name": "python3"
  },
  "language_info": {
   "codemirror_mode": {
    "name": "ipython",
    "version": 3
   },
   "file_extension": ".py",
   "mimetype": "text/x-python",
   "name": "python",
   "nbconvert_exporter": "python",
   "pygments_lexer": "ipython3",
   "version": "3.11.7"
  }
 },
 "nbformat": 4,
 "nbformat_minor": 5
}
